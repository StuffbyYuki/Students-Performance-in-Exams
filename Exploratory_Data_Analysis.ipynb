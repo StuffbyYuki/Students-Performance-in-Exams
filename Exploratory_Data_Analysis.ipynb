{
  "nbformat": 4,
  "nbformat_minor": 0,
  "metadata": {
    "colab": {
      "name": "Exploratory Data Analysis.ipynb",
      "provenance": [],
      "collapsed_sections": [],
      "toc_visible": true,
      "mount_file_id": "1g4MmXFE_PUmiTZIX7LvJ8oTR9zK60SSd",
      "authorship_tag": "ABX9TyOvb8aZ3tEYL7laP+TaSVY0",
      "include_colab_link": true
    },
    "kernelspec": {
      "name": "python3",
      "display_name": "Python 3"
    }
  },
  "cells": [
    {
      "cell_type": "markdown",
      "metadata": {
        "id": "view-in-github",
        "colab_type": "text"
      },
      "source": [
        "<a href=\"https://colab.research.google.com/github/StuffbyYuki/Students-Performance-in-Exams/blob/master/Exploratory_Data_Analysis.ipynb\" target=\"_parent\"><img src=\"https://colab.research.google.com/assets/colab-badge.svg\" alt=\"Open In Colab\"/></a>"
      ]
    },
    {
      "cell_type": "markdown",
      "metadata": {
        "id": "NNTMPVtT4CEu",
        "colab_type": "text"
      },
      "source": [
        "# <b>Exploratory Data Analysis</b>\n",
        "##### • EDA is an approach to analyzing data sets to summarize their main characteristics, often with visual methods. A statistical model can be used or not, but primarily EDA is for seeing what the data can tell us beyond the formal modeling or hypothesis testing task. <a href='https://en.wikipedia.org/wiki/Exploratory_data_analysis'>Wikipedia</a>\n",
        "\n",
        "##### • We will use \"Student Performance in Exams\" dataset from Kaggle. <a href='https://www.kaggle.com/spscientist/students-performance-in-exams'>Data source </a>\n",
        "\n",
        "<br>\n",
        "\n",
        "#### <b>The main purposes for this analysis is to:</b>\n",
        "##### <i>1. To better understand and get familiar with the data.</i>\n",
        "##### <i>2. To indentify and clean any defeacts in the data such as missing values and outliers.</i>\n",
        "##### <i>3. To indentify any patterns, trends, and interesting facts that lie within the data.</i>\n",
        "- what variables contribute to students' test scores?\n",
        "- Is the test prep course effective?\n",
        "- etc\n"
      ]
    },
    {
      "cell_type": "markdown",
      "metadata": {
        "id": "q4Y_yyyq8Sa2",
        "colab_type": "text"
      },
      "source": [
        "## <b>Firtst glance at the data</b>"
      ]
    },
    {
      "cell_type": "code",
      "metadata": {
        "id": "qGw6ZF5733w4",
        "colab_type": "code",
        "outputId": "20ed3887-4158-4a9c-d66b-714ed6b19a62",
        "colab": {
          "base_uri": "https://localhost:8080/",
          "height": 71
        }
      },
      "source": [
        "#Import libraries\n",
        "import pandas as pd\n",
        "import matplotlib.pyplot as plt\n",
        "import seaborn as sns"
      ],
      "execution_count": 0,
      "outputs": [
        {
          "output_type": "stream",
          "text": [
            "/usr/local/lib/python3.6/dist-packages/statsmodels/tools/_testing.py:19: FutureWarning: pandas.util.testing is deprecated. Use the functions in the public API at pandas.testing instead.\n",
            "  import pandas.util.testing as tm\n"
          ],
          "name": "stderr"
        }
      ]
    },
    {
      "cell_type": "code",
      "metadata": {
        "id": "3O0KmV4r4Al1",
        "colab_type": "code",
        "outputId": "18fbef99-bc71-4772-8eea-d3fbad35d61e",
        "colab": {
          "base_uri": "https://localhost:8080/",
          "height": 221
        }
      },
      "source": [
        "#Get the data and look at the first 5 rows\n",
        "df = pd.read_csv('/content/drive/My Drive/Datasets/StudentsPerformance.csv')\n",
        "df.head()"
      ],
      "execution_count": 0,
      "outputs": [
        {
          "output_type": "execute_result",
          "data": {
            "text/html": [
              "<div>\n",
              "<style scoped>\n",
              "    .dataframe tbody tr th:only-of-type {\n",
              "        vertical-align: middle;\n",
              "    }\n",
              "\n",
              "    .dataframe tbody tr th {\n",
              "        vertical-align: top;\n",
              "    }\n",
              "\n",
              "    .dataframe thead th {\n",
              "        text-align: right;\n",
              "    }\n",
              "</style>\n",
              "<table border=\"1\" class=\"dataframe\">\n",
              "  <thead>\n",
              "    <tr style=\"text-align: right;\">\n",
              "      <th></th>\n",
              "      <th>gender</th>\n",
              "      <th>race/ethnicity</th>\n",
              "      <th>parental level of education</th>\n",
              "      <th>lunch</th>\n",
              "      <th>test preparation course</th>\n",
              "      <th>math score</th>\n",
              "      <th>reading score</th>\n",
              "      <th>writing score</th>\n",
              "    </tr>\n",
              "  </thead>\n",
              "  <tbody>\n",
              "    <tr>\n",
              "      <th>0</th>\n",
              "      <td>female</td>\n",
              "      <td>group B</td>\n",
              "      <td>bachelor's degree</td>\n",
              "      <td>standard</td>\n",
              "      <td>none</td>\n",
              "      <td>72</td>\n",
              "      <td>72</td>\n",
              "      <td>74</td>\n",
              "    </tr>\n",
              "    <tr>\n",
              "      <th>1</th>\n",
              "      <td>female</td>\n",
              "      <td>group C</td>\n",
              "      <td>some college</td>\n",
              "      <td>standard</td>\n",
              "      <td>completed</td>\n",
              "      <td>69</td>\n",
              "      <td>90</td>\n",
              "      <td>88</td>\n",
              "    </tr>\n",
              "    <tr>\n",
              "      <th>2</th>\n",
              "      <td>female</td>\n",
              "      <td>group B</td>\n",
              "      <td>master's degree</td>\n",
              "      <td>standard</td>\n",
              "      <td>none</td>\n",
              "      <td>90</td>\n",
              "      <td>95</td>\n",
              "      <td>93</td>\n",
              "    </tr>\n",
              "    <tr>\n",
              "      <th>3</th>\n",
              "      <td>male</td>\n",
              "      <td>group A</td>\n",
              "      <td>associate's degree</td>\n",
              "      <td>free/reduced</td>\n",
              "      <td>none</td>\n",
              "      <td>47</td>\n",
              "      <td>57</td>\n",
              "      <td>44</td>\n",
              "    </tr>\n",
              "    <tr>\n",
              "      <th>4</th>\n",
              "      <td>male</td>\n",
              "      <td>group C</td>\n",
              "      <td>some college</td>\n",
              "      <td>standard</td>\n",
              "      <td>none</td>\n",
              "      <td>76</td>\n",
              "      <td>78</td>\n",
              "      <td>75</td>\n",
              "    </tr>\n",
              "  </tbody>\n",
              "</table>\n",
              "</div>"
            ],
            "text/plain": [
              "   gender race/ethnicity  ... reading score writing score\n",
              "0  female        group B  ...            72            74\n",
              "1  female        group C  ...            90            88\n",
              "2  female        group B  ...            95            93\n",
              "3    male        group A  ...            57            44\n",
              "4    male        group C  ...            78            75\n",
              "\n",
              "[5 rows x 8 columns]"
            ]
          },
          "metadata": {
            "tags": []
          },
          "execution_count": 2
        }
      ]
    },
    {
      "cell_type": "code",
      "metadata": {
        "id": "nMxpPpYh6g00",
        "colab_type": "code",
        "outputId": "43803659-f015-45cc-cd00-26ae0a0505d2",
        "colab": {
          "base_uri": "https://localhost:8080/",
          "height": 85
        }
      },
      "source": [
        "#Get the shape of data\n",
        "print(f'Shape of data: {df.shape}')\n",
        "print(f'Number of rows: {df.shape[0]}')\n",
        "print(f'Number of columns: {df.shape[1]}')\n",
        "print(f'Number of dimensions: {df.ndim}')"
      ],
      "execution_count": 0,
      "outputs": [
        {
          "output_type": "stream",
          "text": [
            "Shape of data: (1000, 8)\n",
            "Number of rows: 1000\n",
            "Number of columns: 8\n",
            "Number of dimensions: 2\n"
          ],
          "name": "stdout"
        }
      ]
    },
    {
      "cell_type": "code",
      "metadata": {
        "id": "lyF8ntF49J2f",
        "colab_type": "code",
        "outputId": "ab12c37f-3fde-4cf6-a60f-23eda949b74f",
        "colab": {
          "base_uri": "https://localhost:8080/",
          "height": 85
        }
      },
      "source": [
        "#column names\n",
        "print(f'Column names are: {df.columns}')"
      ],
      "execution_count": 0,
      "outputs": [
        {
          "output_type": "stream",
          "text": [
            "Column names are: Index(['gender', 'race/ethnicity', 'parental level of education', 'lunch',\n",
            "       'test preparation course', 'math score', 'reading score',\n",
            "       'writing score'],\n",
            "      dtype='object')\n"
          ],
          "name": "stdout"
        }
      ]
    },
    {
      "cell_type": "markdown",
      "metadata": {
        "id": "fQwPKQmm9x5c",
        "colab_type": "text"
      },
      "source": [
        "<b>• Some columns include space or '/', which I don't prefer to have in column names. So I'll replace that with '_'.</b>"
      ]
    },
    {
      "cell_type": "code",
      "metadata": {
        "id": "3L3M4S8y9Vxs",
        "colab_type": "code",
        "outputId": "fc83af0f-0925-4f99-dbe9-39b426c5c5d9",
        "colab": {
          "base_uri": "https://localhost:8080/",
          "height": 85
        }
      },
      "source": [
        "#replace ' ' and '/' with '_'\n",
        "df.columns = df.columns.str.replace(' ', '_').str.replace('/', '_')\n",
        "df.columns"
      ],
      "execution_count": 0,
      "outputs": [
        {
          "output_type": "execute_result",
          "data": {
            "text/plain": [
              "Index(['gender', 'race_ethnicity', 'parental_level_of_education', 'lunch',\n",
              "       'test_preparation_course', 'math_score', 'reading_score',\n",
              "       'writing_score'],\n",
              "      dtype='object')"
            ]
          },
          "metadata": {
            "tags": []
          },
          "execution_count": 5
        }
      ]
    },
    {
      "cell_type": "markdown",
      "metadata": {
        "id": "LTFO9BS49oRe",
        "colab_type": "text"
      },
      "source": [
        "## <b>Types of Data</b>"
      ]
    },
    {
      "cell_type": "code",
      "metadata": {
        "id": "0FgSQMrk9qEi",
        "colab_type": "code",
        "outputId": "1618b8d3-268d-4905-f123-fb76b740d3e5",
        "colab": {
          "base_uri": "https://localhost:8080/",
          "height": 255
        }
      },
      "source": [
        "#Look at dtypes\n",
        "print(df.dtypes)\n",
        "print('\\n')\n",
        "print(df.dtypes.value_counts())"
      ],
      "execution_count": 0,
      "outputs": [
        {
          "output_type": "stream",
          "text": [
            "gender                         object\n",
            "race_ethnicity                 object\n",
            "parental_level_of_education    object\n",
            "lunch                          object\n",
            "test_preparation_course        object\n",
            "math_score                      int64\n",
            "reading_score                   int64\n",
            "writing_score                   int64\n",
            "dtype: object\n",
            "\n",
            "\n",
            "object    5\n",
            "int64     3\n",
            "dtype: int64\n"
          ],
          "name": "stdout"
        }
      ]
    },
    {
      "cell_type": "code",
      "metadata": {
        "id": "oNogjQ-MUFFA",
        "colab_type": "code",
        "outputId": "09afe905-61c0-4b6d-8e07-d36684917d29",
        "colab": {
          "base_uri": "https://localhost:8080/",
          "height": 289
        }
      },
      "source": [
        "#only show numerical dtypes\n",
        "print(df.select_dtypes(include='number').head())\n",
        "\n",
        "print('\\n')\n",
        "\n",
        "#only show non-numerical dtypes\n",
        "print(df.select_dtypes(include='object').head())"
      ],
      "execution_count": 0,
      "outputs": [
        {
          "output_type": "stream",
          "text": [
            "   math_score  reading_score  writing_score\n",
            "0          72             72             74\n",
            "1          69             90             88\n",
            "2          90             95             93\n",
            "3          47             57             44\n",
            "4          76             78             75\n",
            "\n",
            "\n",
            "   gender race_ethnicity  ...         lunch test_preparation_course\n",
            "0  female        group B  ...      standard                    none\n",
            "1  female        group C  ...      standard               completed\n",
            "2  female        group B  ...      standard                    none\n",
            "3    male        group A  ...  free/reduced                    none\n",
            "4    male        group C  ...      standard                    none\n",
            "\n",
            "[5 rows x 5 columns]\n"
          ],
          "name": "stdout"
        }
      ]
    },
    {
      "cell_type": "code",
      "metadata": {
        "id": "YLVUDGGnSKFs",
        "colab_type": "code",
        "outputId": "ef76a2c6-e23c-4bf3-a7fa-f371ce6ecc00",
        "colab": {
          "base_uri": "https://localhost:8080/",
          "height": 272
        }
      },
      "source": [
        "#Look at the dtypes, missing values as well as memory usage at the same time.\n",
        "df.info()"
      ],
      "execution_count": 0,
      "outputs": [
        {
          "output_type": "stream",
          "text": [
            "<class 'pandas.core.frame.DataFrame'>\n",
            "RangeIndex: 1000 entries, 0 to 999\n",
            "Data columns (total 8 columns):\n",
            " #   Column                       Non-Null Count  Dtype \n",
            "---  ------                       --------------  ----- \n",
            " 0   gender                       1000 non-null   object\n",
            " 1   race_ethnicity               1000 non-null   object\n",
            " 2   parental_level_of_education  1000 non-null   object\n",
            " 3   lunch                        1000 non-null   object\n",
            " 4   test_preparation_course      1000 non-null   object\n",
            " 5   math_score                   1000 non-null   int64 \n",
            " 6   reading_score                1000 non-null   int64 \n",
            " 7   writing_score                1000 non-null   int64 \n",
            "dtypes: int64(3), object(5)\n",
            "memory usage: 62.6+ KB\n"
          ],
          "name": "stdout"
        }
      ]
    },
    {
      "cell_type": "markdown",
      "metadata": {
        "id": "cPKcd0gnTuw9",
        "colab_type": "text"
      },
      "source": [
        "<b>- Some dtype of object can probably be converted to dtype of category for it's more efficient in terms of memory usage.</b>"
      ]
    },
    {
      "cell_type": "markdown",
      "metadata": {
        "id": "n6t-lHAFTT_k",
        "colab_type": "text"
      },
      "source": [
        "<b>- It looks like there is no missing values, but we want to make sure that's true.</b>"
      ]
    },
    {
      "cell_type": "markdown",
      "metadata": {
        "id": "dtLivUL-VRwT",
        "colab_type": "text"
      },
      "source": [
        "## <b>Memory Usage</b>"
      ]
    },
    {
      "cell_type": "markdown",
      "metadata": {
        "id": "WJ5Qb6IMaF88",
        "colab_type": "text"
      },
      "source": [
        "<b>• As we looked at the dtypes, there were only 'object' and 'int64'.</b>\n",
        "<br>\n",
        "<b>• We will inspect if we really need them to be 'object'/'int64'.</b>"
      ]
    },
    {
      "cell_type": "code",
      "metadata": {
        "id": "NwCcPekRNUJb",
        "colab_type": "code",
        "outputId": "76d4f711-5188-4b17-c1cb-f00ab5687029",
        "colab": {
          "base_uri": "https://localhost:8080/",
          "height": 272
        }
      },
      "source": [
        "df.info()"
      ],
      "execution_count": 0,
      "outputs": [
        {
          "output_type": "stream",
          "text": [
            "<class 'pandas.core.frame.DataFrame'>\n",
            "RangeIndex: 1000 entries, 0 to 999\n",
            "Data columns (total 8 columns):\n",
            " #   Column                       Non-Null Count  Dtype \n",
            "---  ------                       --------------  ----- \n",
            " 0   gender                       1000 non-null   object\n",
            " 1   race_ethnicity               1000 non-null   object\n",
            " 2   parental_level_of_education  1000 non-null   object\n",
            " 3   lunch                        1000 non-null   object\n",
            " 4   test_preparation_course      1000 non-null   object\n",
            " 5   math_score                   1000 non-null   int64 \n",
            " 6   reading_score                1000 non-null   int64 \n",
            " 7   writing_score                1000 non-null   int64 \n",
            "dtypes: int64(3), object(5)\n",
            "memory usage: 62.6+ KB\n"
          ],
          "name": "stdout"
        }
      ]
    },
    {
      "cell_type": "code",
      "metadata": {
        "id": "en7wA6kGTt0n",
        "colab_type": "code",
        "outputId": "919294d5-b535-4fe8-e785-b74d0d9ac4af",
        "colab": {
          "base_uri": "https://localhost:8080/",
          "height": 187
        }
      },
      "source": [
        "#See memory usage for each column\n",
        "df.memory_usage(deep=True)"
      ],
      "execution_count": 0,
      "outputs": [
        {
          "output_type": "execute_result",
          "data": {
            "text/plain": [
              "Index                            128\n",
              "gender                         62036\n",
              "race_ethnicity                 64000\n",
              "parental_level_of_education    71619\n",
              "lunch                          66420\n",
              "test_preparation_course        62790\n",
              "math_score                      8000\n",
              "reading_score                   8000\n",
              "writing_score                   8000\n",
              "dtype: int64"
            ]
          },
          "metadata": {
            "tags": []
          },
          "execution_count": 10
        }
      ]
    },
    {
      "cell_type": "markdown",
      "metadata": {
        "id": "KfwcodysSZ57",
        "colab_type": "text"
      },
      "source": [
        "<b>- Obviously, dtype of 'object' takes up a lot of memory. We may convert it to 'category' if it doesn't contain a lot of value_counts. </b>"
      ]
    },
    {
      "cell_type": "markdown",
      "metadata": {
        "id": "dsmyhZTvblc4",
        "colab_type": "text"
      },
      "source": [
        "### • Let's first look at non-numerical values."
      ]
    },
    {
      "cell_type": "code",
      "metadata": {
        "id": "PuMNtfgxWarc",
        "colab_type": "code",
        "outputId": "edea1489-a839-4d9a-97d9-cc08842f68bb",
        "colab": {
          "base_uri": "https://localhost:8080/",
          "height": 646
        }
      },
      "source": [
        "#Let's look at the value counts for each.\n",
        "for col in df.select_dtypes(include='object').columns:\n",
        "  print(f'---Value counts for {col}---\\n {df[col].value_counts()}. \\n\\n')"
      ],
      "execution_count": 0,
      "outputs": [
        {
          "output_type": "stream",
          "text": [
            "---Value counts for gender---\n",
            " female    518\n",
            "male      482\n",
            "Name: gender, dtype: int64. \n",
            "\n",
            "\n",
            "---Value counts for race_ethnicity---\n",
            " group C    319\n",
            "group D    262\n",
            "group B    190\n",
            "group E    140\n",
            "group A     89\n",
            "Name: race_ethnicity, dtype: int64. \n",
            "\n",
            "\n",
            "---Value counts for parental_level_of_education---\n",
            " some college          226\n",
            "associate's degree    222\n",
            "high school           196\n",
            "some high school      179\n",
            "bachelor's degree     118\n",
            "master's degree        59\n",
            "Name: parental_level_of_education, dtype: int64. \n",
            "\n",
            "\n",
            "---Value counts for lunch---\n",
            " standard        645\n",
            "free/reduced    355\n",
            "Name: lunch, dtype: int64. \n",
            "\n",
            "\n",
            "---Value counts for test_preparation_course---\n",
            " none         642\n",
            "completed    358\n",
            "Name: test_preparation_course, dtype: int64. \n",
            "\n",
            "\n"
          ],
          "name": "stdout"
        }
      ]
    },
    {
      "cell_type": "code",
      "metadata": {
        "id": "_iHtOtEphRW2",
        "colab_type": "code",
        "outputId": "74ab8e1a-db25-4b21-c5cd-dfd391a4ae17",
        "colab": {
          "base_uri": "https://localhost:8080/",
          "height": 119
        }
      },
      "source": [
        "#You can simple do the same by calling this\n",
        "df.select_dtypes(include='object').nunique()"
      ],
      "execution_count": 0,
      "outputs": [
        {
          "output_type": "execute_result",
          "data": {
            "text/plain": [
              "gender                         2\n",
              "race_ethnicity                 5\n",
              "parental_level_of_education    6\n",
              "lunch                          2\n",
              "test_preparation_course        2\n",
              "dtype: int64"
            ]
          },
          "metadata": {
            "tags": []
          },
          "execution_count": 12
        }
      ]
    },
    {
      "cell_type": "markdown",
      "metadata": {
        "id": "WixTudqCJNrP",
        "colab_type": "text"
      },
      "source": [
        "<b>- Looks like these are more of categorical dtype than simply object (string) dtype, with a hand full of unique values for each. </b><br>\n",
        "<b>- So we'll change dtype to category so that memory usage'd be more efficient.</b>"
      ]
    },
    {
      "cell_type": "code",
      "metadata": {
        "id": "H68kJymWhR4m",
        "colab_type": "code",
        "outputId": "dfdfc738-99c9-4b8b-e739-3871e3718a09",
        "colab": {
          "base_uri": "https://localhost:8080/",
          "height": 136
        }
      },
      "source": [
        "#check current memory usage\n",
        "df.select_dtypes(include='object').memory_usage(deep=True)"
      ],
      "execution_count": 0,
      "outputs": [
        {
          "output_type": "execute_result",
          "data": {
            "text/plain": [
              "Index                            128\n",
              "gender                         62036\n",
              "race_ethnicity                 64000\n",
              "parental_level_of_education    71619\n",
              "lunch                          66420\n",
              "test_preparation_course        62790\n",
              "dtype: int64"
            ]
          },
          "metadata": {
            "tags": []
          },
          "execution_count": 13
        }
      ]
    },
    {
      "cell_type": "code",
      "metadata": {
        "id": "lovQZIUUhSE-",
        "colab_type": "code",
        "outputId": "23e03093-4489-4dd7-b334-5f5f31fb76ab",
        "colab": {
          "base_uri": "https://localhost:8080/",
          "height": 136
        }
      },
      "source": [
        "#look at how efficient it'd be when converted to category dtype\n",
        "df.select_dtypes(include='object').astype('category').memory_usage(deep=True)"
      ],
      "execution_count": 0,
      "outputs": [
        {
          "output_type": "execute_result",
          "data": {
            "text/plain": [
              "Index                           128\n",
              "gender                         1204\n",
              "race_ethnicity                 1480\n",
              "parental_level_of_education    1591\n",
              "lunch                          1214\n",
              "test_preparation_course        1207\n",
              "dtype: int64"
            ]
          },
          "metadata": {
            "tags": []
          },
          "execution_count": 14
        }
      ]
    },
    {
      "cell_type": "code",
      "metadata": {
        "id": "DKn9n_EtKSv8",
        "colab_type": "code",
        "outputId": "4288cf07-2e06-42a3-d3d1-1c37fd4f475a",
        "colab": {
          "base_uri": "https://localhost:8080/",
          "height": 238
        }
      },
      "source": [
        "#covert object to categorical\n",
        "non_numerical_columns = df.select_dtypes(include='object').columns\n",
        "for col in non_numerical_columns:\n",
        "  df[col] = df[col].astype('category')\n",
        "print(df.select_dtypes(include='category').info())"
      ],
      "execution_count": 0,
      "outputs": [
        {
          "output_type": "stream",
          "text": [
            "<class 'pandas.core.frame.DataFrame'>\n",
            "RangeIndex: 1000 entries, 0 to 999\n",
            "Data columns (total 5 columns):\n",
            " #   Column                       Non-Null Count  Dtype   \n",
            "---  ------                       --------------  -----   \n",
            " 0   gender                       1000 non-null   category\n",
            " 1   race_ethnicity               1000 non-null   category\n",
            " 2   parental_level_of_education  1000 non-null   category\n",
            " 3   lunch                        1000 non-null   category\n",
            " 4   test_preparation_course      1000 non-null   category\n",
            "dtypes: category(5)\n",
            "memory usage: 5.7 KB\n",
            "None\n"
          ],
          "name": "stdout"
        }
      ]
    },
    {
      "cell_type": "code",
      "metadata": {
        "id": "lVJBKqFOKS_M",
        "colab_type": "code",
        "outputId": "c386bfea-181b-460b-d023-c2901a8fd818",
        "colab": {
          "base_uri": "https://localhost:8080/",
          "height": 272
        }
      },
      "source": [
        "df.info()"
      ],
      "execution_count": 0,
      "outputs": [
        {
          "output_type": "stream",
          "text": [
            "<class 'pandas.core.frame.DataFrame'>\n",
            "RangeIndex: 1000 entries, 0 to 999\n",
            "Data columns (total 8 columns):\n",
            " #   Column                       Non-Null Count  Dtype   \n",
            "---  ------                       --------------  -----   \n",
            " 0   gender                       1000 non-null   category\n",
            " 1   race_ethnicity               1000 non-null   category\n",
            " 2   parental_level_of_education  1000 non-null   category\n",
            " 3   lunch                        1000 non-null   category\n",
            " 4   test_preparation_course      1000 non-null   category\n",
            " 5   math_score                   1000 non-null   int64   \n",
            " 6   reading_score                1000 non-null   int64   \n",
            " 7   writing_score                1000 non-null   int64   \n",
            "dtypes: category(5), int64(3)\n",
            "memory usage: 29.1 KB\n"
          ],
          "name": "stdout"
        }
      ]
    },
    {
      "cell_type": "markdown",
      "metadata": {
        "id": "1kNqKKcub2Zf",
        "colab_type": "text"
      },
      "source": [
        "### • Now look at numerical values"
      ]
    },
    {
      "cell_type": "markdown",
      "metadata": {
        "id": "26BRw1FCb7nG",
        "colab_type": "text"
      },
      "source": [
        "<b>Memory usage information for dtype of int</b><br>\n",
        "- int8\tByte (-128 to 127)<br>\n",
        "- int16\tInteger (-32768 to 32767)<br>\n",
        "- int32\tInteger (-2147483648 to 2147483647)<br>\n",
        "- int64\tInteger (-9223372036854775808 to 9223372036854775807)<br>"
      ]
    },
    {
      "cell_type": "code",
      "metadata": {
        "id": "3RLHYxgPb6qE",
        "colab_type": "code",
        "outputId": "6905ecd1-fd8b-4cec-e53b-f980733c58cb",
        "colab": {
          "base_uri": "https://localhost:8080/",
          "height": 204
        }
      },
      "source": [
        "#look at numerical values again\n",
        "df.select_dtypes(include='number').head()"
      ],
      "execution_count": 0,
      "outputs": [
        {
          "output_type": "execute_result",
          "data": {
            "text/html": [
              "<div>\n",
              "<style scoped>\n",
              "    .dataframe tbody tr th:only-of-type {\n",
              "        vertical-align: middle;\n",
              "    }\n",
              "\n",
              "    .dataframe tbody tr th {\n",
              "        vertical-align: top;\n",
              "    }\n",
              "\n",
              "    .dataframe thead th {\n",
              "        text-align: right;\n",
              "    }\n",
              "</style>\n",
              "<table border=\"1\" class=\"dataframe\">\n",
              "  <thead>\n",
              "    <tr style=\"text-align: right;\">\n",
              "      <th></th>\n",
              "      <th>math_score</th>\n",
              "      <th>reading_score</th>\n",
              "      <th>writing_score</th>\n",
              "    </tr>\n",
              "  </thead>\n",
              "  <tbody>\n",
              "    <tr>\n",
              "      <th>0</th>\n",
              "      <td>72</td>\n",
              "      <td>72</td>\n",
              "      <td>74</td>\n",
              "    </tr>\n",
              "    <tr>\n",
              "      <th>1</th>\n",
              "      <td>69</td>\n",
              "      <td>90</td>\n",
              "      <td>88</td>\n",
              "    </tr>\n",
              "    <tr>\n",
              "      <th>2</th>\n",
              "      <td>90</td>\n",
              "      <td>95</td>\n",
              "      <td>93</td>\n",
              "    </tr>\n",
              "    <tr>\n",
              "      <th>3</th>\n",
              "      <td>47</td>\n",
              "      <td>57</td>\n",
              "      <td>44</td>\n",
              "    </tr>\n",
              "    <tr>\n",
              "      <th>4</th>\n",
              "      <td>76</td>\n",
              "      <td>78</td>\n",
              "      <td>75</td>\n",
              "    </tr>\n",
              "  </tbody>\n",
              "</table>\n",
              "</div>"
            ],
            "text/plain": [
              "   math_score  reading_score  writing_score\n",
              "0          72             72             74\n",
              "1          69             90             88\n",
              "2          90             95             93\n",
              "3          47             57             44\n",
              "4          76             78             75"
            ]
          },
          "metadata": {
            "tags": []
          },
          "execution_count": 17
        }
      ]
    },
    {
      "cell_type": "markdown",
      "metadata": {
        "id": "3VGoG38QcXb1",
        "colab_type": "text"
      },
      "source": [
        "<b>- Numerical values seem like they fall between 0 - 100 since they are all test scores.</b><br>\n",
        "<b>- Let's Look at min and max values for each numerical column, so we will know that for sure.</b>"
      ]
    },
    {
      "cell_type": "code",
      "metadata": {
        "id": "iMEtyAT7c1Dm",
        "colab_type": "code",
        "outputId": "27676a54-eba1-4d7c-8c6a-6c48c17d8715",
        "colab": {
          "base_uri": "https://localhost:8080/",
          "height": 221
        }
      },
      "source": [
        "print(f\"- Min scores:\\n{df.select_dtypes(include='number').min()}\")\n",
        "print('\\n')\n",
        "print(f\"- Max scores:\\n{df.select_dtypes(include='number').max()}\")"
      ],
      "execution_count": 0,
      "outputs": [
        {
          "output_type": "stream",
          "text": [
            "- Min scores:\n",
            "math_score        0\n",
            "reading_score    17\n",
            "writing_score    10\n",
            "dtype: int64\n",
            "\n",
            "\n",
            "- Max scores:\n",
            "math_score       100\n",
            "reading_score    100\n",
            "writing_score    100\n",
            "dtype: int64\n"
          ],
          "name": "stdout"
        }
      ]
    },
    {
      "cell_type": "code",
      "metadata": {
        "id": "sVNCgVtweDRY",
        "colab_type": "code",
        "outputId": "7dd7bf02-f238-4eae-c17b-60a2deb34168",
        "colab": {
          "base_uri": "https://localhost:8080/",
          "height": 221
        }
      },
      "source": [
        "#compare memory usage when using int64 vs int8\n",
        "print(f\"{df.select_dtypes(include='number').memory_usage()}\\n\") #int64\n",
        "print(f\"{df.select_dtypes(include='number').astype('int8').memory_usage()}\\n\") #int8"
      ],
      "execution_count": 0,
      "outputs": [
        {
          "output_type": "stream",
          "text": [
            "Index             128\n",
            "math_score       8000\n",
            "reading_score    8000\n",
            "writing_score    8000\n",
            "dtype: int64\n",
            "\n",
            "Index             128\n",
            "math_score       1000\n",
            "reading_score    1000\n",
            "writing_score    1000\n",
            "dtype: int64\n",
            "\n"
          ],
          "name": "stdout"
        }
      ]
    },
    {
      "cell_type": "markdown",
      "metadata": {
        "id": "_hrrPasUe_WT",
        "colab_type": "text"
      },
      "source": [
        "<b>- Memory usage using int8 is much more efficient for our situation.</b>"
      ]
    },
    {
      "cell_type": "code",
      "metadata": {
        "id": "sqUJimjQd00n",
        "colab_type": "code",
        "outputId": "2b1215a9-3187-4ffb-bd62-f2e6be73a33c",
        "colab": {
          "base_uri": "https://localhost:8080/",
          "height": 204
        }
      },
      "source": [
        "#Convert int64 to int8\n",
        "numerical_columns = df.select_dtypes(include='number').columns\n",
        "for col in numerical_columns:\n",
        "  df[col] = df[col].astype('int8')\n",
        "print(df.select_dtypes(include='number').info())"
      ],
      "execution_count": 0,
      "outputs": [
        {
          "output_type": "stream",
          "text": [
            "<class 'pandas.core.frame.DataFrame'>\n",
            "RangeIndex: 1000 entries, 0 to 999\n",
            "Data columns (total 3 columns):\n",
            " #   Column         Non-Null Count  Dtype\n",
            "---  ------         --------------  -----\n",
            " 0   math_score     1000 non-null   int8 \n",
            " 1   reading_score  1000 non-null   int8 \n",
            " 2   writing_score  1000 non-null   int8 \n",
            "dtypes: int8(3)\n",
            "memory usage: 3.1 KB\n",
            "None\n"
          ],
          "name": "stdout"
        }
      ]
    },
    {
      "cell_type": "markdown",
      "metadata": {
        "id": "kvIJk70Sdybr",
        "colab_type": "text"
      },
      "source": [
        "<b>- Now memory usage for numerical values are as 1/8 times smaller! </b>"
      ]
    },
    {
      "cell_type": "markdown",
      "metadata": {
        "id": "OlMT6go8Vg4T",
        "colab_type": "text"
      },
      "source": [
        "## <b>Missing Values</b>"
      ]
    },
    {
      "cell_type": "code",
      "metadata": {
        "id": "vTU5fqBDSksw",
        "colab_type": "code",
        "outputId": "785eb10e-a7a8-48bf-da9b-1743238226d7",
        "colab": {
          "base_uri": "https://localhost:8080/",
          "height": 170
        }
      },
      "source": [
        "#Make sure if there is any missing values in the data.\n",
        "df.isna().sum()"
      ],
      "execution_count": 0,
      "outputs": [
        {
          "output_type": "execute_result",
          "data": {
            "text/plain": [
              "gender                         0\n",
              "race_ethnicity                 0\n",
              "parental_level_of_education    0\n",
              "lunch                          0\n",
              "test_preparation_course        0\n",
              "math_score                     0\n",
              "reading_score                  0\n",
              "writing_score                  0\n",
              "dtype: int64"
            ]
          },
          "metadata": {
            "tags": []
          },
          "execution_count": 21
        }
      ]
    },
    {
      "cell_type": "markdown",
      "metadata": {
        "id": "9rYPe3VbV9_Y",
        "colab_type": "text"
      },
      "source": [
        "<b>- We would handle missing values here, by either dropping them or replace with other values. </b>\n",
        "<br>\n",
        "<b>- However, the data used for this analysis doesn't contain any, so skip this phase.</b>"
      ]
    },
    {
      "cell_type": "markdown",
      "metadata": {
        "id": "1IGtvH3jWTAj",
        "colab_type": "text"
      },
      "source": [
        "## <b>Descriptive Statistics</b>"
      ]
    },
    {
      "cell_type": "code",
      "metadata": {
        "id": "_u_O226WWO6q",
        "colab_type": "code",
        "outputId": "f0ba47f2-4c2d-44b9-c9f2-20396c430d73",
        "colab": {
          "base_uri": "https://localhost:8080/",
          "height": 142
        }
      },
      "source": [
        "#show summary statistics with .describe()\n",
        "df.describe(include='number').T"
      ],
      "execution_count": 0,
      "outputs": [
        {
          "output_type": "execute_result",
          "data": {
            "text/html": [
              "<div>\n",
              "<style scoped>\n",
              "    .dataframe tbody tr th:only-of-type {\n",
              "        vertical-align: middle;\n",
              "    }\n",
              "\n",
              "    .dataframe tbody tr th {\n",
              "        vertical-align: top;\n",
              "    }\n",
              "\n",
              "    .dataframe thead th {\n",
              "        text-align: right;\n",
              "    }\n",
              "</style>\n",
              "<table border=\"1\" class=\"dataframe\">\n",
              "  <thead>\n",
              "    <tr style=\"text-align: right;\">\n",
              "      <th></th>\n",
              "      <th>count</th>\n",
              "      <th>mean</th>\n",
              "      <th>std</th>\n",
              "      <th>min</th>\n",
              "      <th>25%</th>\n",
              "      <th>50%</th>\n",
              "      <th>75%</th>\n",
              "      <th>max</th>\n",
              "    </tr>\n",
              "  </thead>\n",
              "  <tbody>\n",
              "    <tr>\n",
              "      <th>math_score</th>\n",
              "      <td>1000.0</td>\n",
              "      <td>66.089</td>\n",
              "      <td>15.163080</td>\n",
              "      <td>0.0</td>\n",
              "      <td>57.00</td>\n",
              "      <td>66.0</td>\n",
              "      <td>77.0</td>\n",
              "      <td>100.0</td>\n",
              "    </tr>\n",
              "    <tr>\n",
              "      <th>reading_score</th>\n",
              "      <td>1000.0</td>\n",
              "      <td>69.169</td>\n",
              "      <td>14.600192</td>\n",
              "      <td>17.0</td>\n",
              "      <td>59.00</td>\n",
              "      <td>70.0</td>\n",
              "      <td>79.0</td>\n",
              "      <td>100.0</td>\n",
              "    </tr>\n",
              "    <tr>\n",
              "      <th>writing_score</th>\n",
              "      <td>1000.0</td>\n",
              "      <td>68.054</td>\n",
              "      <td>15.195657</td>\n",
              "      <td>10.0</td>\n",
              "      <td>57.75</td>\n",
              "      <td>69.0</td>\n",
              "      <td>79.0</td>\n",
              "      <td>100.0</td>\n",
              "    </tr>\n",
              "  </tbody>\n",
              "</table>\n",
              "</div>"
            ],
            "text/plain": [
              "                count    mean        std   min    25%   50%   75%    max\n",
              "math_score     1000.0  66.089  15.163080   0.0  57.00  66.0  77.0  100.0\n",
              "reading_score  1000.0  69.169  14.600192  17.0  59.00  70.0  79.0  100.0\n",
              "writing_score  1000.0  68.054  15.195657  10.0  57.75  69.0  79.0  100.0"
            ]
          },
          "metadata": {
            "tags": []
          },
          "execution_count": 22
        }
      ]
    },
    {
      "cell_type": "code",
      "metadata": {
        "id": "YTB-lrpyV9Tl",
        "colab_type": "code",
        "outputId": "cc535539-f29c-4b95-bdb1-e484dd9d8c97",
        "colab": {
          "base_uri": "https://localhost:8080/",
          "height": 204
        }
      },
      "source": [
        "#.describe() on object/categorical dtypes show counts, nunique, etc.\n",
        "df.describe(include='category').T"
      ],
      "execution_count": 0,
      "outputs": [
        {
          "output_type": "execute_result",
          "data": {
            "text/html": [
              "<div>\n",
              "<style scoped>\n",
              "    .dataframe tbody tr th:only-of-type {\n",
              "        vertical-align: middle;\n",
              "    }\n",
              "\n",
              "    .dataframe tbody tr th {\n",
              "        vertical-align: top;\n",
              "    }\n",
              "\n",
              "    .dataframe thead th {\n",
              "        text-align: right;\n",
              "    }\n",
              "</style>\n",
              "<table border=\"1\" class=\"dataframe\">\n",
              "  <thead>\n",
              "    <tr style=\"text-align: right;\">\n",
              "      <th></th>\n",
              "      <th>count</th>\n",
              "      <th>unique</th>\n",
              "      <th>top</th>\n",
              "      <th>freq</th>\n",
              "    </tr>\n",
              "  </thead>\n",
              "  <tbody>\n",
              "    <tr>\n",
              "      <th>gender</th>\n",
              "      <td>1000</td>\n",
              "      <td>2</td>\n",
              "      <td>female</td>\n",
              "      <td>518</td>\n",
              "    </tr>\n",
              "    <tr>\n",
              "      <th>race_ethnicity</th>\n",
              "      <td>1000</td>\n",
              "      <td>5</td>\n",
              "      <td>group C</td>\n",
              "      <td>319</td>\n",
              "    </tr>\n",
              "    <tr>\n",
              "      <th>parental_level_of_education</th>\n",
              "      <td>1000</td>\n",
              "      <td>6</td>\n",
              "      <td>some college</td>\n",
              "      <td>226</td>\n",
              "    </tr>\n",
              "    <tr>\n",
              "      <th>lunch</th>\n",
              "      <td>1000</td>\n",
              "      <td>2</td>\n",
              "      <td>standard</td>\n",
              "      <td>645</td>\n",
              "    </tr>\n",
              "    <tr>\n",
              "      <th>test_preparation_course</th>\n",
              "      <td>1000</td>\n",
              "      <td>2</td>\n",
              "      <td>none</td>\n",
              "      <td>642</td>\n",
              "    </tr>\n",
              "  </tbody>\n",
              "</table>\n",
              "</div>"
            ],
            "text/plain": [
              "                            count unique           top freq\n",
              "gender                       1000      2        female  518\n",
              "race_ethnicity               1000      5       group C  319\n",
              "parental_level_of_education  1000      6  some college  226\n",
              "lunch                        1000      2      standard  645\n",
              "test_preparation_course      1000      2          none  642"
            ]
          },
          "metadata": {
            "tags": []
          },
          "execution_count": 23
        }
      ]
    },
    {
      "cell_type": "markdown",
      "metadata": {
        "id": "vy3eVJ3sWSlO",
        "colab_type": "text"
      },
      "source": [
        "## **Visualizations**"
      ]
    },
    {
      "cell_type": "code",
      "metadata": {
        "id": "P9umcfJhq2r0",
        "colab_type": "code",
        "colab": {}
      },
      "source": [
        "#set color palette\n",
        "sns.set(palette='colorblind')"
      ],
      "execution_count": 0,
      "outputs": []
    },
    {
      "cell_type": "code",
      "metadata": {
        "id": "wCUtdxYVVWb2",
        "colab_type": "code",
        "outputId": "ffd85496-9d68-4827-dd1b-51654d460304",
        "colab": {
          "base_uri": "https://localhost:8080/",
          "height": 567
        }
      },
      "source": [
        "#check distribution & trend of test scores. Anything that stands out?\n",
        "sns.pairplot(df)\n",
        "plt.show()"
      ],
      "execution_count": 0,
      "outputs": [
        {
          "output_type": "display_data",
          "data": {
            "image/png": "[encoded data removed]",
            "text/plain": [
              "<Figure size 540x540 with 12 Axes>"
            ]
          },
          "metadata": {
            "tags": []
          }
        }
      ]
    },
    {
      "cell_type": "markdown",
      "metadata": {
        "id": "ehPBYpY5P-Uf",
        "colab_type": "text"
      },
      "source": [
        "<b>• There are obviously positive correlation between each test score.</b>"
      ]
    },
    {
      "cell_type": "code",
      "metadata": {
        "id": "g8foxhA2O84E",
        "colab_type": "code",
        "outputId": "756ee304-5f6d-4ce0-d2b1-4e6cad045d30",
        "colab": {
          "base_uri": "https://localhost:8080/",
          "height": 410
        }
      },
      "source": [
        "#take a closer look\n",
        "fig, ax = plt.subplots(figsize=(12,6))\n",
        "ax = sns.regplot(df.writing_score, df.reading_score)\n",
        "ax.set_title('reading score vs writing score')\n",
        "plt.show()"
      ],
      "execution_count": 0,
      "outputs": [
        {
          "output_type": "display_data",
          "data": {
            "image/png": "[encoded data removed]",
            "text/plain": [
              "<Figure size 864x432 with 1 Axes>"
            ]
          },
          "metadata": {
            "tags": []
          }
        }
      ]
    },
    {
      "cell_type": "code",
      "metadata": {
        "id": "xj7zjljIPmOf",
        "colab_type": "code",
        "outputId": "b020ce1b-f420-4ab6-c095-ff95ab189ec5",
        "colab": {
          "base_uri": "https://localhost:8080/",
          "height": 284
        }
      },
      "source": [
        "#take a closer look at the score distribution\n",
        "#show multiple plots\n",
        "fig, axes = plt.subplots(1, 3, sharex=True, sharey=True)\n",
        "axes[0].boxplot(df.math_score)\n",
        "axes[0].set_title('math score')\n",
        "axes[1].boxplot(df.reading_score)\n",
        "axes[1].set_title('reading score')\n",
        "\n",
        "axes[2].boxplot(df.writing_score)\n",
        "axes[2].set_title('writing score')\n",
        "\n",
        "plt.show()"
      ],
      "execution_count": 0,
      "outputs": [
        {
          "output_type": "display_data",
          "data": {
            "image/png": "[encoded data removed]",
            "text/plain": [
              "<Figure size 432x288 with 3 Axes>"
            ]
          },
          "metadata": {
            "tags": []
          }
        }
      ]
    },
    {
      "cell_type": "markdown",
      "metadata": {
        "id": "aWywjcLNaCGl",
        "colab_type": "text"
      },
      "source": [
        "**- Each score distribution overall looks the same, except there more outliers in math test.**"
      ]
    },
    {
      "cell_type": "markdown",
      "metadata": {
        "id": "3zimKSMJQMSm",
        "colab_type": "text"
      },
      "source": [
        "<b>- Let's see which test score contributes the most/least to the avg of three tests.</b>"
      ]
    },
    {
      "cell_type": "code",
      "metadata": {
        "id": "V4VtPy02OYsH",
        "colab_type": "code",
        "colab": {}
      },
      "source": [
        "#Make a new column with the avg of three scores\n",
        "df['average_of_three_tests'] = df[['math_score', 'reading_score', 'writing_score']].mean(axis=1).round(0).astype('int8')"
      ],
      "execution_count": 0,
      "outputs": []
    },
    {
      "cell_type": "code",
      "metadata": {
        "id": "Sr6jkrfpQ2Ht",
        "colab_type": "code",
        "outputId": "7c404e39-a316-4eb1-af73-7c87bb60f3ae",
        "colab": {
          "base_uri": "https://localhost:8080/",
          "height": 285
        }
      },
      "source": [
        "#check its distribution\n",
        "sns.distplot(df.average_of_three_tests, bins=30)\n",
        "plt.show()"
      ],
      "execution_count": 0,
      "outputs": [
        {
          "output_type": "display_data",
          "data": {
            "image/png": "[encoded data removed]",
            "text/plain": [
              "<Figure size 432x288 with 1 Axes>"
            ]
          },
          "metadata": {
            "tags": []
          }
        }
      ]
    },
    {
      "cell_type": "markdown",
      "metadata": {
        "id": "YYyMvCc5XrwM",
        "colab_type": "text"
      },
      "source": [
        "### • Some correlation analysis"
      ]
    },
    {
      "cell_type": "code",
      "metadata": {
        "id": "NpGwhnm0TQLG",
        "colab_type": "code",
        "outputId": "67c95408-4e79-4bbb-ce5e-9aeb87c4c638",
        "colab": {
          "base_uri": "https://localhost:8080/",
          "height": 173
        }
      },
      "source": [
        "df.corr()"
      ],
      "execution_count": 0,
      "outputs": [
        {
          "output_type": "execute_result",
          "data": {
            "text/html": [
              "<div>\n",
              "<style scoped>\n",
              "    .dataframe tbody tr th:only-of-type {\n",
              "        vertical-align: middle;\n",
              "    }\n",
              "\n",
              "    .dataframe tbody tr th {\n",
              "        vertical-align: top;\n",
              "    }\n",
              "\n",
              "    .dataframe thead th {\n",
              "        text-align: right;\n",
              "    }\n",
              "</style>\n",
              "<table border=\"1\" class=\"dataframe\">\n",
              "  <thead>\n",
              "    <tr style=\"text-align: right;\">\n",
              "      <th></th>\n",
              "      <th>math_score</th>\n",
              "      <th>reading_score</th>\n",
              "      <th>writing_score</th>\n",
              "      <th>average_of_three_tests</th>\n",
              "    </tr>\n",
              "  </thead>\n",
              "  <tbody>\n",
              "    <tr>\n",
              "      <th>math_score</th>\n",
              "      <td>1.000000</td>\n",
              "      <td>0.817580</td>\n",
              "      <td>0.802642</td>\n",
              "      <td>0.918442</td>\n",
              "    </tr>\n",
              "    <tr>\n",
              "      <th>reading_score</th>\n",
              "      <td>0.817580</td>\n",
              "      <td>1.000000</td>\n",
              "      <td>0.954598</td>\n",
              "      <td>0.970143</td>\n",
              "    </tr>\n",
              "    <tr>\n",
              "      <th>writing_score</th>\n",
              "      <td>0.802642</td>\n",
              "      <td>0.954598</td>\n",
              "      <td>1.000000</td>\n",
              "      <td>0.965643</td>\n",
              "    </tr>\n",
              "    <tr>\n",
              "      <th>average_of_three_tests</th>\n",
              "      <td>0.918442</td>\n",
              "      <td>0.970143</td>\n",
              "      <td>0.965643</td>\n",
              "      <td>1.000000</td>\n",
              "    </tr>\n",
              "  </tbody>\n",
              "</table>\n",
              "</div>"
            ],
            "text/plain": [
              "                        math_score  ...  average_of_three_tests\n",
              "math_score                1.000000  ...                0.918442\n",
              "reading_score             0.817580  ...                0.970143\n",
              "writing_score             0.802642  ...                0.965643\n",
              "average_of_three_tests    0.918442  ...                1.000000\n",
              "\n",
              "[4 rows x 4 columns]"
            ]
          },
          "metadata": {
            "tags": []
          },
          "execution_count": 30
        }
      ]
    },
    {
      "cell_type": "code",
      "metadata": {
        "id": "_BODHAbWQlaY",
        "colab_type": "code",
        "outputId": "cb512ea9-d113-415b-b9e8-050af24649b2",
        "colab": {
          "base_uri": "https://localhost:8080/",
          "height": 408
        }
      },
      "source": [
        "#Heatmap to clearly show the correlation values between variables\n",
        "sns.heatmap(df.corr(), cmap=\"YlGnBu\")"
      ],
      "execution_count": 0,
      "outputs": [
        {
          "output_type": "execute_result",
          "data": {
            "text/plain": [
              "<matplotlib.axes._subplots.AxesSubplot at 0x7f9a000eb3c8>"
            ]
          },
          "metadata": {
            "tags": []
          },
          "execution_count": 31
        },
        {
          "output_type": "display_data",
          "data": {
            "image/png": "[encoded data removed]",
            "text/plain": [
              "<Figure size 432x288 with 2 Axes>"
            ]
          },
          "metadata": {
            "tags": []
          }
        }
      ]
    },
    {
      "cell_type": "markdown",
      "metadata": {
        "id": "x6FzQK8ETVuj",
        "colab_type": "text"
      },
      "source": [
        "<b>- Every score has at least the value of 0.8 to each other, which shows the strong correlation relationship between variables. </b><br><br>\n",
        "<b>- Math score seems to be a less important factor to the avg of three tests compared to reading and writing score.</b>"
      ]
    },
    {
      "cell_type": "markdown",
      "metadata": {
        "id": "7ahz522qYCh0",
        "colab_type": "text"
      },
      "source": [
        "Next, let's see how categorical data impact the avg of three scores."
      ]
    },
    {
      "cell_type": "code",
      "metadata": {
        "id": "fJH_n4ttc2eV",
        "colab_type": "code",
        "outputId": "72221b72-686b-42c7-dda8-d03d9e23d280",
        "colab": {
          "base_uri": "https://localhost:8080/",
          "height": 204
        }
      },
      "source": [
        "#Review, there are five categorical variables\n",
        "df.select_dtypes(include='category').describe().T"
      ],
      "execution_count": 0,
      "outputs": [
        {
          "output_type": "execute_result",
          "data": {
            "text/html": [
              "<div>\n",
              "<style scoped>\n",
              "    .dataframe tbody tr th:only-of-type {\n",
              "        vertical-align: middle;\n",
              "    }\n",
              "\n",
              "    .dataframe tbody tr th {\n",
              "        vertical-align: top;\n",
              "    }\n",
              "\n",
              "    .dataframe thead th {\n",
              "        text-align: right;\n",
              "    }\n",
              "</style>\n",
              "<table border=\"1\" class=\"dataframe\">\n",
              "  <thead>\n",
              "    <tr style=\"text-align: right;\">\n",
              "      <th></th>\n",
              "      <th>count</th>\n",
              "      <th>unique</th>\n",
              "      <th>top</th>\n",
              "      <th>freq</th>\n",
              "    </tr>\n",
              "  </thead>\n",
              "  <tbody>\n",
              "    <tr>\n",
              "      <th>gender</th>\n",
              "      <td>1000</td>\n",
              "      <td>2</td>\n",
              "      <td>female</td>\n",
              "      <td>518</td>\n",
              "    </tr>\n",
              "    <tr>\n",
              "      <th>race_ethnicity</th>\n",
              "      <td>1000</td>\n",
              "      <td>5</td>\n",
              "      <td>group C</td>\n",
              "      <td>319</td>\n",
              "    </tr>\n",
              "    <tr>\n",
              "      <th>parental_level_of_education</th>\n",
              "      <td>1000</td>\n",
              "      <td>6</td>\n",
              "      <td>some college</td>\n",
              "      <td>226</td>\n",
              "    </tr>\n",
              "    <tr>\n",
              "      <th>lunch</th>\n",
              "      <td>1000</td>\n",
              "      <td>2</td>\n",
              "      <td>standard</td>\n",
              "      <td>645</td>\n",
              "    </tr>\n",
              "    <tr>\n",
              "      <th>test_preparation_course</th>\n",
              "      <td>1000</td>\n",
              "      <td>2</td>\n",
              "      <td>none</td>\n",
              "      <td>642</td>\n",
              "    </tr>\n",
              "  </tbody>\n",
              "</table>\n",
              "</div>"
            ],
            "text/plain": [
              "                            count unique           top freq\n",
              "gender                       1000      2        female  518\n",
              "race_ethnicity               1000      5       group C  319\n",
              "parental_level_of_education  1000      6  some college  226\n",
              "lunch                        1000      2      standard  645\n",
              "test_preparation_course      1000      2          none  642"
            ]
          },
          "metadata": {
            "tags": []
          },
          "execution_count": 32
        }
      ]
    },
    {
      "cell_type": "code",
      "metadata": {
        "id": "3hymwgO6uMkB",
        "colab_type": "code",
        "colab": {}
      },
      "source": [
        "#For labling on bar chart\n",
        "def autolabel(viz):\n",
        "  for p in viz.patches:\n",
        "    viz.annotate(format(p.get_height(), '.2f'), \n",
        "                 (p.get_x() + p.get_width() / 2., p.get_height()), \n",
        "                 ha = 'center', \n",
        "                 va = 'center', \n",
        "                 xytext = (0, 10), \n",
        "                 textcoords = 'offset points')\n",
        "    "
      ],
      "execution_count": 0,
      "outputs": []
    },
    {
      "cell_type": "code",
      "metadata": {
        "id": "isvb96MbHZuj",
        "colab_type": "code",
        "colab": {}
      },
      "source": [
        "def get_sorted_cat_values(num_column, cat_column, ascending=True):\n",
        "  '''returns a list of sorted values in cat_column sorted by the mean of num_column.\n",
        "     only accept by str name as in \"gender.\" ''' \n",
        "  #----------------------------------------------------------------\n",
        "  #arguments should be str\n",
        "  if not (isinstance(num_column, str) and isinstance(cat_column, str)):\n",
        "    raise ValueError('Enter column by its name in string!')\n",
        "  #num_column should be numerical\n",
        "  if not ( df[num_column].dtype.name.__contains__('int') or df[num_column].dtype.name.__contains__('float')):\n",
        "    raise ValueError(f'First argument should be int or float. Your type was: {df[num_column].dtype.name}')\n",
        "  #cat_column should be categorical\n",
        "  if ((df[cat_column].dtype.name) != 'category'):\n",
        "    raise ValueError(f'Seccond argument should be categorical. Your type was: {df[cat_column].dtype.name}')\n",
        "  #----------------------------------------------------------------\n",
        "\n",
        "  sorted_values = ( \n",
        "                    df.groupby(cat_column)[num_column]\n",
        "                   .mean()\n",
        "                   .sort_values(ascending=ascending)\n",
        "                   .index\n",
        "                   .unique()\n",
        "                  )\n",
        "  return sorted_values\n"
      ],
      "execution_count": 0,
      "outputs": []
    },
    {
      "cell_type": "code",
      "metadata": {
        "id": "A1MAj_S3H5um",
        "colab_type": "code",
        "outputId": "3b7f4955-0469-4f16-ab51-6dee448834ba",
        "colab": {
          "base_uri": "https://localhost:8080/",
          "height": 410
        }
      },
      "source": [
        "#gender\n",
        "fig = plt.figure(figsize=(12, 6))\n",
        "viz = sns.barplot('gender', 'average_of_three_tests', data=df, order=get_sorted_cat_values('average_of_three_tests', 'gender', ascending=False), ci = None)\n",
        "plt.title('average_of_three_tests with gender')\n",
        "autolabel(viz)\n",
        "plt.show()"
      ],
      "execution_count": 0,
      "outputs": [
        {
          "output_type": "display_data",
          "data": {
            "image/png": "[encoded data removed]",
            "text/plain": [
              "<Figure size 864x432 with 1 Axes>"
            ]
          },
          "metadata": {
            "tags": []
          }
        }
      ]
    },
    {
      "cell_type": "markdown",
      "metadata": {
        "id": "l8KCyjakmjPi",
        "colab_type": "text"
      },
      "source": [
        "**- female has slightly higher test scores**"
      ]
    },
    {
      "cell_type": "code",
      "metadata": {
        "id": "EuzKV3FmjSXF",
        "colab_type": "code",
        "outputId": "869c7220-ca6b-49ef-d74d-6556f26aa456",
        "colab": {
          "base_uri": "https://localhost:8080/",
          "height": 410
        }
      },
      "source": [
        "#race\n",
        "fig = plt.figure(figsize=(12, 6))\n",
        "viz = sns.barplot('race_ethnicity', 'average_of_three_tests', data=df, order=get_sorted_cat_values('average_of_three_tests', 'race_ethnicity', ascending=False), ci = None)\n",
        "plt.title('average_of_three_tests with race')\n",
        "autolabel(viz)\n",
        "plt.show()"
      ],
      "execution_count": 0,
      "outputs": [
        {
          "output_type": "display_data",
          "data": {
            "image/png": "[encoded data removed]",
            "text/plain": [
              "<Figure size 864x432 with 1 Axes>"
            ]
          },
          "metadata": {
            "tags": []
          }
        }
      ]
    },
    {
      "cell_type": "markdown",
      "metadata": {
        "id": "0q18CSZ0ND8L",
        "colab_type": "text"
      },
      "source": [
        "<b>- About 10 points difference between group E and group A. </b>"
      ]
    },
    {
      "cell_type": "code",
      "metadata": {
        "id": "Qw0QjzxrjSIF",
        "colab_type": "code",
        "outputId": "5c155fba-76f4-492d-b66d-854621c8a02f",
        "colab": {
          "base_uri": "https://localhost:8080/",
          "height": 410
        }
      },
      "source": [
        "#paret educaiton level\n",
        "fig = plt.figure(figsize=(12, 6))\n",
        "viz = sns.barplot(df.parental_level_of_education, df.average_of_three_tests, order=get_sorted_cat_values('average_of_three_tests', 'parental_level_of_education', False), ci = None)\n",
        "plt.title('average_of_three_tests with parental_level_of_education')\n",
        "autolabel(viz)\n",
        "plt.show()"
      ],
      "execution_count": 0,
      "outputs": [
        {
          "output_type": "display_data",
          "data": {
            "image/png": "[encoded data removed]",
            "text/plain": [
              "<Figure size 864x432 with 1 Axes>"
            ]
          },
          "metadata": {
            "tags": []
          }
        }
      ]
    },
    {
      "cell_type": "markdown",
      "metadata": {
        "id": "ucc7r7raMm5V",
        "colab_type": "text"
      },
      "source": [
        "<b>- Looks like parent's education level matters. the higher education student's parent has, the better score that student gets. </b>"
      ]
    },
    {
      "cell_type": "code",
      "metadata": {
        "id": "yJhjKqtrSffy",
        "colab_type": "code",
        "outputId": "43ba0509-6ce4-4eae-f9c8-c002fa2cd4de",
        "colab": {
          "base_uri": "https://localhost:8080/",
          "height": 410
        }
      },
      "source": [
        "#lunch\n",
        "fig = plt.figure(figsize=(12, 6))\n",
        "viz = sns.barplot(df.lunch, df.average_of_three_tests, order=get_sorted_cat_values('average_of_three_tests', 'lunch', False), ci = None)\n",
        "plt.title('average_of_three_tests with lunch')\n",
        "autolabel(viz)\n",
        "plt.show()"
      ],
      "execution_count": 0,
      "outputs": [
        {
          "output_type": "display_data",
          "data": {
            "image/png": "[encoded data removed]",
            "text/plain": [
              "<Figure size 864x432 with 1 Axes>"
            ]
          },
          "metadata": {
            "tags": []
          }
        }
      ]
    },
    {
      "cell_type": "markdown",
      "metadata": {
        "id": "pKwukRdSS8sS",
        "colab_type": "text"
      },
      "source": [
        "**- About 8 points difference**"
      ]
    },
    {
      "cell_type": "code",
      "metadata": {
        "id": "ZXexj5ukTSLb",
        "colab_type": "code",
        "outputId": "367abfdd-b949-4764-c65d-ad187b5e0315",
        "colab": {
          "base_uri": "https://localhost:8080/",
          "height": 410
        }
      },
      "source": [
        "#test prep course\n",
        "fig = plt.figure(figsize=(12, 6))\n",
        "viz = sns.barplot(df.test_preparation_course, df.average_of_three_tests, order=get_sorted_cat_values('average_of_three_tests', 'test_preparation_course', False), ci = None)\n",
        "plt.title('average_of_three_tests with test prep course')\n",
        "autolabel(viz)\n",
        "plt.show()"
      ],
      "execution_count": 0,
      "outputs": [
        {
          "output_type": "display_data",
          "data": {
            "image/png": "[encoded data removed]",
            "text/plain": [
              "<Figure size 864x432 with 1 Axes>"
            ]
          },
          "metadata": {
            "tags": []
          }
        }
      ]
    },
    {
      "cell_type": "markdown",
      "metadata": {
        "id": "Rx-PUiVfpC-P",
        "colab_type": "text"
      },
      "source": [
        "**- Test score is quite different if a student completed the test prep course. This can be considered as one of the best variables when predicting the test scores.**"
      ]
    },
    {
      "cell_type": "markdown",
      "metadata": {
        "id": "9wIWPDvtTSvG",
        "colab_type": "text"
      },
      "source": [
        "## <b>Conclusion</b>"
      ]
    },
    {
      "cell_type": "markdown",
      "metadata": {
        "id": "-Cy_fMiCXsIn",
        "colab_type": "text"
      },
      "source": [
        "###• Results"
      ]
    },
    {
      "cell_type": "markdown",
      "metadata": {
        "id": "IyA__VuWogGK",
        "colab_type": "text"
      },
      "source": [
        "1. Data contained some categorical values and numerica values ranging from 0-100, so I was able to reduce the memory usage a lot.\n",
        "<br><br>\n",
        "2. All of three tests (math, reading, writing) are strongly correlated with the average test scores, but math test was the least impactfull and that it had more extreme outliers than the other two.\n",
        "<br><br>\n",
        "3. Race, parent's education, lunch are especially related to students' test scores. Max of around 10 points difference in the avg test scores.\n",
        "<br><br>\n",
        "4. Test prep course has some impact, though, we don't yet know how significant its impact is.\n",
        "<br><br>\n",
        "5. We still would like to see how a combination of these categorical variables would be related to the test scores."
      ]
    },
    {
      "cell_type": "markdown",
      "metadata": {
        "id": "OI_nxj0HXonB",
        "colab_type": "text"
      },
      "source": [
        "###• Next steps / New assumptions to test"
      ]
    },
    {
      "cell_type": "markdown",
      "metadata": {
        "id": "5X8lSRkwYzzq",
        "colab_type": "text"
      },
      "source": [
        "1. One of the assumptions is that students of a particular race tends to be wealthier/not-wealithier than other race. <br>\n",
        "That could lead to parents having a higher/lower education, being able/not-able to provide children the standard lunch. \n",
        "<br><br>\n",
        "2. We would like to conduct statistical tests to see if difference/results we saw are statistically significant.\n",
        "<br><br>\n",
        "3. As the final step, we'd like to build a predictive model based on variables we will have selected by statistical tests as well as other feature engineering techniques.\n"
      ]
    }
  ]
}